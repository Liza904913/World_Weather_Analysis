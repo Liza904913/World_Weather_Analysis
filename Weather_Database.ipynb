{
 "cells": [
  {
   "cell_type": "code",
   "execution_count": null,
   "id": "4b2e15f2",
   "metadata": {},
   "outputs": [],
   "source": [
    "# Dependencies and Setup\n",
    "import pandas as pd\n",
    "import requests\n",
    "import gmaps\n",
    "import numpy as np\n",
    "# Import API key\n",
    "from config import g_key\n",
    "import json\n",
    "import matplotlib.pyplot as plt\n",
    "from config import weather_api_key\n",
    "# Configure gmaps API key\n",
    "gmaps.configure(api_key=g_key)"
   ]
  },
  {
   "cell_type": "code",
   "execution_count": null,
   "id": "e1feb920-7e44-4f20-a1ec-198f006f6def",
   "metadata": {},
   "outputs": [],
   "source": [
    "# Create a set of random latitude and longitude combinations.\n",
    "lats = np.random.uniform(low=-90.000, high=90.000, size=1500)\n",
    "lngs = np.random.uniform(low=-180.000, high=180.000, size=1500)\n",
    "lat_lngs = zip(lats, lngs)\n",
    "lat_lngs"
   ]
  },
  {
   "cell_type": "code",
   "execution_count": 3,
   "id": "3200df56",
   "metadata": {},
   "outputs": [
    {
     "data": {
      "text/html": [
       "<div>\n",
       "<style scoped>\n",
       "    .dataframe tbody tr th:only-of-type {\n",
       "        vertical-align: middle;\n",
       "    }\n",
       "\n",
       "    .dataframe tbody tr th {\n",
       "        vertical-align: top;\n",
       "    }\n",
       "\n",
       "    .dataframe thead th {\n",
       "        text-align: right;\n",
       "    }\n",
       "</style>\n",
       "<table border=\"1\" class=\"dataframe\">\n",
       "  <thead>\n",
       "    <tr style=\"text-align: right;\">\n",
       "      <th></th>\n",
       "      <th>City_ID</th>\n",
       "      <th>City</th>\n",
       "      <th>Lat</th>\n",
       "      <th>Lng</th>\n",
       "      <th>Max Temp</th>\n",
       "      <th>Humidity</th>\n",
       "      <th>Cloudiness</th>\n",
       "      <th>Wind Speed</th>\n",
       "      <th>Country</th>\n",
       "    </tr>\n",
       "  </thead>\n",
       "  <tbody>\n",
       "    <tr>\n",
       "      <th>0</th>\n",
       "      <td>0</td>\n",
       "      <td>Poum</td>\n",
       "      <td>-20.2333</td>\n",
       "      <td>164.0167</td>\n",
       "      <td>72.61</td>\n",
       "      <td>66</td>\n",
       "      <td>75</td>\n",
       "      <td>6.96</td>\n",
       "      <td>NC</td>\n",
       "    </tr>\n",
       "    <tr>\n",
       "      <th>1</th>\n",
       "      <td>1</td>\n",
       "      <td>Punta Arenas</td>\n",
       "      <td>-53.1500</td>\n",
       "      <td>-70.9167</td>\n",
       "      <td>44.71</td>\n",
       "      <td>53</td>\n",
       "      <td>40</td>\n",
       "      <td>23.02</td>\n",
       "      <td>CL</td>\n",
       "    </tr>\n",
       "    <tr>\n",
       "      <th>2</th>\n",
       "      <td>2</td>\n",
       "      <td>Beloha</td>\n",
       "      <td>-25.1667</td>\n",
       "      <td>45.0500</td>\n",
       "      <td>68.18</td>\n",
       "      <td>79</td>\n",
       "      <td>0</td>\n",
       "      <td>5.91</td>\n",
       "      <td>MG</td>\n",
       "    </tr>\n",
       "    <tr>\n",
       "      <th>3</th>\n",
       "      <td>3</td>\n",
       "      <td>Troitskoye</td>\n",
       "      <td>52.9821</td>\n",
       "      <td>84.6757</td>\n",
       "      <td>41.00</td>\n",
       "      <td>72</td>\n",
       "      <td>100</td>\n",
       "      <td>13.89</td>\n",
       "      <td>RU</td>\n",
       "    </tr>\n",
       "    <tr>\n",
       "      <th>4</th>\n",
       "      <td>4</td>\n",
       "      <td>Eastbourne</td>\n",
       "      <td>50.7687</td>\n",
       "      <td>0.2845</td>\n",
       "      <td>60.17</td>\n",
       "      <td>91</td>\n",
       "      <td>100</td>\n",
       "      <td>4.12</td>\n",
       "      <td>GB</td>\n",
       "    </tr>\n",
       "  </tbody>\n",
       "</table>\n",
       "</div>"
      ],
      "text/plain": [
       "   City_ID          City      Lat       Lng  Max Temp  Humidity  Cloudiness  \\\n",
       "0        0          Poum -20.2333  164.0167     72.61        66          75   \n",
       "1        1  Punta Arenas -53.1500  -70.9167     44.71        53          40   \n",
       "2        2        Beloha -25.1667   45.0500     68.18        79           0   \n",
       "3        3    Troitskoye  52.9821   84.6757     41.00        72         100   \n",
       "4        4    Eastbourne  50.7687    0.2845     60.17        91         100   \n",
       "\n",
       "   Wind Speed Country  \n",
       "0        6.96      NC  \n",
       "1       23.02      CL  \n",
       "2        5.91      MG  \n",
       "3       13.89      RU  \n",
       "4        4.12      GB  "
      ]
     },
     "execution_count": 3,
     "metadata": {},
     "output_type": "execute_result"
    }
   ],
   "source": [
    "# 1. Import the WeatherPy_database.csv file. \n",
    "city_data_df = pd.read_csv(\"weather_data/cities.csv\")\n",
    "city_data_df.head()"
   ]
  },
  {
   "cell_type": "code",
   "execution_count": null,
   "id": "986e0151",
   "metadata": {},
   "outputs": [],
   "source": [
    "# 2. Prompt the user to enter minimum and maximum temperature criteria \n",
    "min_temp = float(input(\"What is the minimum temperature you would like for your trip? \"))\n",
    "max_temp = float(input(\"What is the maximum temperature you would like for your trip? \"))\n"
   ]
  },
  {
   "cell_type": "code",
   "execution_count": null,
   "id": "2d50cb4a-7e01-48e4-a134-270fcf159295",
   "metadata": {},
   "outputs": [],
   "source": [
    "# 3. Filter the city_data_df DataFrame using the input statements to create a new DataFrame using the loc method.\n",
    "clean_df = city_data_df.loc[(city_data_df[\"Max Temp\"] >70) & (city_data_df[\"Max Temp\"] <95)]\n",
    "                        \n",
    "clean_df                         "
   ]
  },
  {
   "cell_type": "code",
   "execution_count": null,
   "id": "da957b29-74c5-40ce-b311-1e7a94ca44fe",
   "metadata": {},
   "outputs": [],
   "source": [
    "# 4a. Determine if there are any empty rows."
   ]
  },
  {
   "cell_type": "code",
   "execution_count": null,
   "id": "168560f0-c251-4c9d-9030-bf0cbedd94e8",
   "metadata": {},
   "outputs": [],
   "source": [
    "# 4b. Drop any empty rows and create a new DataFrame that doesn’t have empty rows."
   ]
  },
  {
   "cell_type": "code",
   "execution_count": null,
   "id": "5eba02ce-2344-45b2-9006-29c0e58cbb1f",
   "metadata": {},
   "outputs": [],
   "source": [
    "# 5a. Create DataFrame called hotel_df to store hotel names along with city, country, max temp, and coordinates.\n",
    "hotel_df = clean_df[[\"City\", \"Country\", \"Max Temp\", \"Lat\", \"Lng\", \"Date\"]].copy()\n"
   ]
  },
  {
   "cell_type": "code",
   "execution_count": null,
   "id": "9d9fc4ea-1f40-48e8-bff6-7deefce9dba2",
   "metadata": {},
   "outputs": [],
   "source": [
    "hotel_df[\"Hotel Name\"] = \"\"\n",
    "hotel_df.head(10)"
   ]
  },
  {
   "cell_type": "code",
   "execution_count": 12,
   "id": "a9e8ce4f-cbd8-4722-b64c-04d9841df772",
   "metadata": {},
   "outputs": [],
   "source": [
    "# 6a. Set parameters to search for hotels with 5000 meters.\n",
    "params = {\n",
    "    \"radius\": 5000,\n",
    "    \"type\": \"lodging\",\n",
    "    \"key\": g_key\n",
    "}"
   ]
  },
  {
   "cell_type": "code",
   "execution_count": null,
   "id": "390102e0-730e-40a3-b74a-e2e9672ca7db",
   "metadata": {},
   "outputs": [],
   "source": []
  }
 ],
 "metadata": {
  "kernelspec": {
   "display_name": "Python 3 (ipykernel)",
   "language": "python",
   "name": "python3"
  },
  "language_info": {
   "codemirror_mode": {
    "name": "ipython",
    "version": 3
   },
   "file_extension": ".py",
   "mimetype": "text/x-python",
   "name": "python",
   "nbconvert_exporter": "python",
   "pygments_lexer": "ipython3",
   "version": "3.8.8"
  }
 },
 "nbformat": 4,
 "nbformat_minor": 5
}
