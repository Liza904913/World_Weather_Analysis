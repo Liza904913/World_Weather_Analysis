{
 "cells": [
  {
   "cell_type": "code",
   "execution_count": 19,
   "id": "f17c2e44-741a-4663-b847-cb37f1f62235",
   "metadata": {},
   "outputs": [],
   "source": [
    "# Import the random module.\n",
    "import random"
   ]
  },
  {
   "cell_type": "code",
   "execution_count": 21,
   "id": "deff1e9d-b31f-4e57-860c-8d59c558f18d",
   "metadata": {},
   "outputs": [
    {
     "data": {
      "text/plain": [
       "0.2027487655340403"
      ]
     },
     "execution_count": 21,
     "metadata": {},
     "output_type": "execute_result"
    }
   ],
   "source": [
    "random.random()"
   ]
  },
  {
   "cell_type": "code",
   "execution_count": 23,
   "id": "b3f98500-65b5-4d9e-8459-edc19c11dcd4",
   "metadata": {},
   "outputs": [
    {
     "ename": "TypeError",
     "evalue": "uniform() missing 2 required positional arguments: 'a' and 'b'",
     "output_type": "error",
     "traceback": [
      "\u001b[0;31m---------------------------------------------------------------------------\u001b[0m",
      "\u001b[0;31mTypeError\u001b[0m                                 Traceback (most recent call last)",
      "\u001b[0;32m/var/folders/xj/v2f25d416qnc6np42772_7lh0000gn/T/ipykernel_1481/2392520689.py\u001b[0m in \u001b[0;36m<module>\u001b[0;34m\u001b[0m\n\u001b[0;32m----> 1\u001b[0;31m \u001b[0mrandom\u001b[0m\u001b[0;34m.\u001b[0m\u001b[0muniform\u001b[0m\u001b[0;34m(\u001b[0m\u001b[0;34m)\u001b[0m\u001b[0;34m\u001b[0m\u001b[0;34m\u001b[0m\u001b[0m\n\u001b[0m",
      "\u001b[0;31mTypeError\u001b[0m: uniform() missing 2 required positional arguments: 'a' and 'b'"
     ]
    }
   ],
   "source": [
    "random.uniform()"
   ]
  },
  {
   "cell_type": "code",
   "execution_count": 38,
   "id": "1a8096c5-9aad-4f11-a7fb-89cd2e0ed3ad",
   "metadata": {},
   "outputs": [
    {
     "ename": "SyntaxError",
     "evalue": "invalid character in identifier (3708438280.py, line 1)",
     "output_type": "error",
     "traceback": [
      "\u001b[0;36m  File \u001b[0;32m\"/var/folders/xj/v2f25d416qnc6np42772_7lh0000gn/T/ipykernel_1481/3708438280.py\"\u001b[0;36m, line \u001b[0;32m1\u001b[0m\n\u001b[0;31m    random.random(–90, 90)\u001b[0m\n\u001b[0m                    ^\u001b[0m\n\u001b[0;31mSyntaxError\u001b[0m\u001b[0;31m:\u001b[0m invalid character in identifier\n"
     ]
    }
   ],
   "source": [
    "random.random(–90, 90)"
   ]
  },
  {
   "cell_type": "code",
   "execution_count": 26,
   "id": "91443510-90af-4414-b172-e3cc332bc15d",
   "metadata": {},
   "outputs": [],
   "source": [
    "x = 1\n",
    "latitudes = []\n",
    "while x < 11:\n",
    "    random_lat = random.randint(-90, 89) + random.random()\n",
    "    latitudes.append(random_lat)\n",
    "    x += 1"
   ]
  },
  {
   "cell_type": "code",
   "execution_count": 27,
   "id": "5f0623c8-712b-47ad-9f39-a996f45a3a9a",
   "metadata": {},
   "outputs": [
    {
     "data": {
      "text/plain": [
       "[25.051579682232838,\n",
       " 42.81623141721189,\n",
       " -52.83747161913557,\n",
       " -73.72217346397923,\n",
       " 16.47839181447428,\n",
       " 47.20059286939929,\n",
       " 72.28639696215497,\n",
       " -30.62811698512541,\n",
       " -68.5568879723409,\n",
       " 35.18675998584223]"
      ]
     },
     "execution_count": 27,
     "metadata": {},
     "output_type": "execute_result"
    }
   ],
   "source": [
    "latitudes"
   ]
  },
  {
   "cell_type": "code",
   "execution_count": 28,
   "id": "8da65a06-40c2-46a0-b7ea-302e266bb16d",
   "metadata": {},
   "outputs": [
    {
     "data": {
      "text/plain": [
       "-83"
      ]
     },
     "execution_count": 28,
     "metadata": {},
     "output_type": "execute_result"
    }
   ],
   "source": [
    "random.randrange(-90, 90, step=1)"
   ]
  },
  {
   "cell_type": "code",
   "execution_count": 29,
   "id": "af8d2353-0f93-4eeb-b658-839cc469eac1",
   "metadata": {},
   "outputs": [
    {
     "data": {
      "text/plain": [
       "39"
      ]
     },
     "execution_count": 29,
     "metadata": {},
     "output_type": "execute_result"
    }
   ],
   "source": [
    "random.randrange(-90, 90, step=3)"
   ]
  },
  {
   "cell_type": "code",
   "execution_count": 30,
   "id": "badb7bce-25e1-413d-8b90-47f97eb2e617",
   "metadata": {},
   "outputs": [
    {
     "data": {
      "text/plain": [
       "-72.31604876850137"
      ]
     },
     "execution_count": 30,
     "metadata": {},
     "output_type": "execute_result"
    }
   ],
   "source": [
    "random.uniform(-90, 90)"
   ]
  },
  {
   "cell_type": "code",
   "execution_count": 31,
   "id": "3ad0dbd9-8a09-4c6d-9b0d-06ae65166415",
   "metadata": {},
   "outputs": [],
   "source": [
    "# Import the NumPy module.\n",
    "import numpy as np"
   ]
  },
  {
   "cell_type": "code",
   "execution_count": 32,
   "id": "af74d443-1d25-42a3-81d3-2707469f898d",
   "metadata": {},
   "outputs": [
    {
     "data": {
      "text/plain": [
       "-87.0246388898785"
      ]
     },
     "execution_count": 32,
     "metadata": {},
     "output_type": "execute_result"
    }
   ],
   "source": [
    "np.random.uniform(-90.000, 90.000)"
   ]
  },
  {
   "cell_type": "code",
   "execution_count": 33,
   "id": "ca0b0628-6981-4855-8dc5-3537df7e7ca1",
   "metadata": {},
   "outputs": [
    {
     "data": {
      "text/plain": [
       "-4.816370550849015"
      ]
     },
     "execution_count": 33,
     "metadata": {},
     "output_type": "execute_result"
    }
   ],
   "source": [
    "np.random.uniform(low=-90, high=90)"
   ]
  },
  {
   "cell_type": "code",
   "execution_count": 34,
   "id": "3c8ad9ee-09c0-4447-b829-bbe5b099bae0",
   "metadata": {},
   "outputs": [
    {
     "data": {
      "text/plain": [
       "array([ 27.39323958,  69.81137458,  71.19901648, -35.04818376,\n",
       "       -41.28596108,   2.52859146,  40.17587647, -27.36289277,\n",
       "       -22.1255508 , -39.41613724, -34.26597889,  25.78386598,\n",
       "       -57.66303156,  16.9695915 , -39.6193717 , -77.98082665,\n",
       "       -86.10984514,  59.12769894, -25.39948084,  31.72813733,\n",
       "       -17.72666634, -47.19585576,  75.86986631, -86.96029592,\n",
       "        10.38330373,  89.44212155, -64.77511219, -38.99946366,\n",
       "       -23.32612297,  -7.96024481,  34.97244711,  84.50839028,\n",
       "       -37.80006531,  40.0862996 ,  42.2899835 , -64.98462763,\n",
       "       -72.91602165, -34.71292485, -15.79531166,  12.13170472,\n",
       "        45.53309557,  78.24522706, -29.85545081,  17.0364523 ,\n",
       "        34.05922456,  25.23550739,  40.44227823,  10.56016269,\n",
       "       -31.19722368,  46.73174951])"
      ]
     },
     "execution_count": 34,
     "metadata": {},
     "output_type": "execute_result"
    }
   ],
   "source": [
    "np.random.uniform(-90.000, 90.000, size=50)"
   ]
  },
  {
   "cell_type": "code",
   "execution_count": 35,
   "id": "cdab9331-69e8-4b28-bce3-fc0e3ebc3730",
   "metadata": {},
   "outputs": [],
   "source": [
    "# Import timeit.\n",
    "import timeit"
   ]
  },
  {
   "cell_type": "code",
   "execution_count": 36,
   "id": "ebc131af-0c7d-40d2-bd88-190cf0e8724a",
   "metadata": {},
   "outputs": [
    {
     "name": "stdout",
     "output_type": "stream",
     "text": [
      "12.2 µs ± 68.5 ns per loop (mean ± std. dev. of 7 runs, 100000 loops each)\n"
     ]
    }
   ],
   "source": [
    "%timeit np.random.uniform(-90.000, 90.000, size=1500)"
   ]
  },
  {
   "cell_type": "code",
   "execution_count": 37,
   "id": "32d90535-96cf-4657-ac04-7cc7fbc1f1dc",
   "metadata": {},
   "outputs": [
    {
     "name": "stdout",
     "output_type": "stream",
     "text": [
      "1.14 ms ± 5.44 µs per loop (mean ± std. dev. of 7 runs, 1000 loops each)\n"
     ]
    }
   ],
   "source": [
    "def latitudes(size):\n",
    "    latitudes = []\n",
    "    x = 0\n",
    "    while x < (size):\n",
    "        random_lat = random.randint(-90, 90) + random.random()\n",
    "        latitudes.append(random_lat)\n",
    "        x += 1\n",
    "    return latitudes\n",
    "# Call the function with 1500.\n",
    "%timeit latitudes(1500)"
   ]
  },
  {
   "cell_type": "code",
   "execution_count": null,
   "id": "0919e771-dbdc-4a65-a55a-24de7f85dac2",
   "metadata": {},
   "outputs": [],
   "source": []
  }
 ],
 "metadata": {
  "kernelspec": {
   "display_name": "PythonData",
   "language": "python",
   "name": "pythondata"
  },
  "language_info": {
   "codemirror_mode": {
    "name": "ipython",
    "version": 3
   },
   "file_extension": ".py",
   "mimetype": "text/x-python",
   "name": "python",
   "nbconvert_exporter": "python",
   "pygments_lexer": "ipython3",
   "version": "3.8.8"
  }
 },
 "nbformat": 4,
 "nbformat_minor": 5
}
